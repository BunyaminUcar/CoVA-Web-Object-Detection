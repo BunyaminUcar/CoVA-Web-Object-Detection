{
 "cells": [
  {
   "cell_type": "code",
   "execution_count": 1,
   "metadata": {},
   "outputs": [],
   "source": [
    "import numpy as np\n",
    "import os\n",
    "import torch\n",
    "import torch.nn as nn\n",
    "import torch.optim as optim\n",
    "from torch.utils.data import DataLoader\n",
    "\n",
    "from datasets import WebDataset\n",
    "from models import WebObjExtractionNet\n",
    "from train import train_model, evaluate_model\n",
    "from utils import custom_collate_fn, pkl_load, print_and_log\n",
    "\n",
    "device = torch.device('cuda' if torch.cuda.is_available() else 'cpu')"
   ]
  },
  {
   "cell_type": "code",
   "execution_count": 2,
   "metadata": {},
   "outputs": [
    {
     "data": {
      "text/plain": [
       "<torch._C.Generator at 0x7fbc98239110>"
      ]
     },
     "execution_count": 2,
     "metadata": {},
     "output_type": "execute_result"
    }
   ],
   "source": [
    "seed = 1\n",
    "np.random.seed(seed)\n",
    "torch.manual_seed(seed)\n",
    "# torch.backends.cudnn.deterministic = True\n",
    "# torch.backends.cudnn.benchmark = False"
   ]
  },
  {
   "cell_type": "code",
   "execution_count": 3,
   "metadata": {},
   "outputs": [
    {
     "name": "stdout",
     "output_type": "stream",
     "text": [
      "logs will be saved in \"results/logs resnet18 batch-10 roi-7 lr-1e-03.txt\"\n",
      "Batch Size: 10\n",
      "RoI Pool Output Size: (7, 7)\n",
      "Learning Rate: 1e-03\n",
      "\n"
     ]
    }
   ],
   "source": [
    "# Parameters\n",
    "N_CLASSES = 4 # 0: BG, 1: Price, 2: Image, 3: Title\n",
    "CLASS_NAMES = ['BG', 'Price', 'Image', 'Title']\n",
    "IMG_HEIGHT = 1280 # Image assumed to have same height and width\n",
    "EVAL_INTERVAL = 5 # Number of Epochs after which model is evaluated\n",
    "TRAIN_DATA_DIR = '../data/web_data/train'\n",
    "TEST_DATA_DIR = '../data/web_data/test'\n",
    "OUTPUT_DIR = 'results'\n",
    "\n",
    "# Hyperparameters\n",
    "LEARNING_RATE = 1e-3\n",
    "BACKBONE = 'resnet18'\n",
    "BATCH_SIZE = 10\n",
    "ROI_POOL_OUTPUT_SIZE = (7,7)\n",
    "TRAINABLE_CONVNET = True\n",
    "N_EPOCHS = 20\n",
    "\n",
    "if not os.path.exists(OUTPUT_DIR):\n",
    "    os.makedirs(OUTPUT_DIR)\n",
    "\n",
    "# NOTE: if same hyperparameter configuration is run again, previous log file will be overwritten\n",
    "LOG_FILE = '%s/logs %s batch-%d roi-%d lr-%.0e.txt' % (OUTPUT_DIR, BACKBONE, BATCH_SIZE, ROI_POOL_OUTPUT_SIZE[0], LEARNING_RATE)\n",
    "print('logs will be saved in \\\"%s\\\"' % (LOG_FILE))\n",
    "print_and_log('Batch Size: %d' % (BATCH_SIZE), LOG_FILE, 'w')\n",
    "print_and_log('RoI Pool Output Size: (%d, %d)' % ROI_POOL_OUTPUT_SIZE, LOG_FILE)\n",
    "print_and_log('Learning Rate: %.0e\\n' % (LEARNING_RATE), LOG_FILE)"
   ]
  },
  {
   "cell_type": "code",
   "execution_count": 4,
   "metadata": {},
   "outputs": [],
   "source": [
    "train_dataset = WebDataset(TRAIN_DATA_DIR)\n",
    "train_loader = DataLoader(train_dataset, batch_size=BATCH_SIZE, shuffle=True, num_workers=4,\n",
    "                          collate_fn=custom_collate_fn, drop_last=False)\n",
    "\n",
    "test_dataset = WebDataset(TEST_DATA_DIR)\n",
    "test_loader = DataLoader(test_dataset, batch_size=BATCH_SIZE, shuffle=False, num_workers=4,\n",
    "                         collate_fn=custom_collate_fn, drop_last=False)"
   ]
  },
  {
   "cell_type": "code",
   "execution_count": 5,
   "metadata": {},
   "outputs": [
    {
     "name": "stdout",
     "output_type": "stream",
     "text": [
      "Train Images: 4891\n",
      "Test  Images: 1129\n"
     ]
    }
   ],
   "source": [
    "print('Train Images:', len(train_dataset))\n",
    "print('Test  Images:', len(test_dataset))"
   ]
  },
  {
   "cell_type": "code",
   "execution_count": 6,
   "metadata": {
    "scrolled": false
   },
   "outputs": [
    {
     "name": "stdout",
     "output_type": "stream",
     "text": [
      "Initializing WebObjExtractionNet model...\n",
      "Using first few layers of Resnet18 as ConvNet Visual Feature Extractor\n",
      "ConvNet Feature Map size: torch.Size([1, 64, 320, 320])\n",
      "Trainable parameters: 170052\n",
      "WebObjExtractionNet(\n",
      "  (convnet): Sequential(\n",
      "    (0): Conv2d(3, 64, kernel_size=(7, 7), stride=(2, 2), padding=(3, 3), bias=False)\n",
      "    (1): BatchNorm2d(64, eps=1e-05, momentum=0.1, affine=True, track_running_stats=True)\n",
      "    (2): ReLU(inplace=True)\n",
      "    (3): MaxPool2d(kernel_size=3, stride=2, padding=1, dilation=1, ceil_mode=False)\n",
      "    (4): Sequential(\n",
      "      (0): BasicBlock(\n",
      "        (conv1): Conv2d(64, 64, kernel_size=(3, 3), stride=(1, 1), padding=(1, 1), bias=False)\n",
      "        (bn1): BatchNorm2d(64, eps=1e-05, momentum=0.1, affine=True, track_running_stats=True)\n",
      "        (relu): ReLU(inplace=True)\n",
      "        (conv2): Conv2d(64, 64, kernel_size=(3, 3), stride=(1, 1), padding=(1, 1), bias=False)\n",
      "        (bn2): BatchNorm2d(64, eps=1e-05, momentum=0.1, affine=True, track_running_stats=True)\n",
      "      )\n",
      "      (1): BasicBlock(\n",
      "        (conv1): Conv2d(64, 64, kernel_size=(3, 3), stride=(1, 1), padding=(1, 1), bias=False)\n",
      "        (bn1): BatchNorm2d(64, eps=1e-05, momentum=0.1, affine=True, track_running_stats=True)\n",
      "        (relu): ReLU(inplace=True)\n",
      "        (conv2): Conv2d(64, 64, kernel_size=(3, 3), stride=(1, 1), padding=(1, 1), bias=False)\n",
      "        (bn2): BatchNorm2d(64, eps=1e-05, momentum=0.1, affine=True, track_running_stats=True)\n",
      "      )\n",
      "    )\n",
      "  )\n",
      "  (roi_pool): RoIPool(output_size=(7, 7), spatial_scale=0.25)\n",
      "  (fc): Linear(in_features=3136, out_features=4, bias=True)\n",
      ")\n",
      "--------------------------------------------------\n",
      "Training Model for 20 epochs...\n",
      "[TRAIN]\t Epoch:  1\t Loss: 0.2257\t Accuracy: 97.08% (138.97s)\n",
      "[EVAL]\t Loss: 0.1763\t Accuracy: 97.59% (27.99s)\n",
      "True \\ Pred\tBG\tPrice\tImage\tTitle\n",
      "BG\t\t110100\t20\t39\t144\n",
      "Price\t\t997\t132\t0\t0\n",
      "Image\t\t930\t0\t199\t0\n",
      "Title\t\t615\t0\t0\t514\n",
      "\n",
      "        BG: Acc: 99.82%\n",
      "     Price: Acc: 11.69%\n",
      "     Image: Acc: 17.63%\n",
      "     Title: Acc: 45.53%\n",
      "\n",
      "[TRAIN]\t Epoch:  2\t Loss: 0.1537\t Accuracy: 97.70% (139.79s)\n",
      "[TRAIN]\t Epoch:  3\t Loss: 0.1197\t Accuracy: 97.97% (145.82s)\n",
      "[TRAIN]\t Epoch:  4\t Loss: 0.1005\t Accuracy: 98.10% (146.32s)\n",
      "[TRAIN]\t Epoch:  5\t Loss: 0.0846\t Accuracy: 98.28% (139.09s)\n",
      "[EVAL]\t Loss: 0.1295\t Accuracy: 97.45% (27.33s)\n",
      "True \\ Pred\tBG\tPrice\tImage\tTitle\n",
      "BG\t\t109361\t33\t31\t878\n",
      "Price\t\t938\t191\t0\t0\n",
      "Image\t\t877\t1\t230\t21\n",
      "Title\t\t122\t0\t0\t1007\n",
      "\n",
      "        BG: Acc: 99.15%\n",
      "     Price: Acc: 16.92%\n",
      "     Image: Acc: 20.37%\n",
      "     Title: Acc: 89.19%\n",
      "\n",
      "[TRAIN]\t Epoch:  6\t Loss: 0.0736\t Accuracy: 98.44% (140.03s)\n",
      "[TRAIN]\t Epoch:  7\t Loss: 0.0662\t Accuracy: 98.52% (140.03s)\n",
      "[TRAIN]\t Epoch:  8\t Loss: 0.0611\t Accuracy: 98.61% (141.78s)\n",
      "[TRAIN]\t Epoch:  9\t Loss: 0.0557\t Accuracy: 98.70% (140.47s)\n",
      "[TRAIN]\t Epoch: 10\t Loss: 0.0492\t Accuracy: 98.84% (139.87s)\n",
      "[EVAL]\t Loss: 0.1225\t Accuracy: 97.55% (27.78s)\n",
      "True \\ Pred\tBG\tPrice\tImage\tTitle\n",
      "BG\t\t110158\t50\t13\t82\n",
      "Price\t\t998\t130\t1\t0\n",
      "Image\t\t926\t1\t202\t0\n",
      "Title\t\t707\t2\t0\t420\n",
      "\n",
      "        BG: Acc: 99.87%\n",
      "     Price: Acc: 11.51%\n",
      "     Image: Acc: 17.89%\n",
      "     Title: Acc: 37.20%\n",
      "\n",
      "[TRAIN]\t Epoch: 11\t Loss: 0.0459\t Accuracy: 98.88% (140.00s)\n",
      "[TRAIN]\t Epoch: 12\t Loss: 0.0438\t Accuracy: 98.91% (138.13s)\n",
      "[TRAIN]\t Epoch: 13\t Loss: 0.0409\t Accuracy: 98.98% (138.43s)\n",
      "[TRAIN]\t Epoch: 14\t Loss: 0.0387\t Accuracy: 99.04% (146.07s)\n",
      "[TRAIN]\t Epoch: 15\t Loss: 0.0360\t Accuracy: 99.09% (145.79s)\n",
      "[EVAL]\t Loss: 0.1338\t Accuracy: 97.52% (28.23s)\n",
      "True \\ Pred\tBG\tPrice\tImage\tTitle\n",
      "BG\t\t110115\t103\t43\t42\n",
      "Price\t\t874\t254\t1\t0\n",
      "Image\t\t843\t1\t285\t0\n",
      "Title\t\t909\t0\t0\t220\n",
      "\n",
      "        BG: Acc: 99.83%\n",
      "     Price: Acc: 22.50%\n",
      "     Image: Acc: 25.24%\n",
      "     Title: Acc: 19.49%\n",
      "\n",
      "[TRAIN]\t Epoch: 16\t Loss: 0.0345\t Accuracy: 99.13% (138.99s)\n",
      "[TRAIN]\t Epoch: 17\t Loss: 0.0319\t Accuracy: 99.20% (138.87s)\n",
      "[TRAIN]\t Epoch: 18\t Loss: 0.0323\t Accuracy: 99.17% (138.55s)\n",
      "[TRAIN]\t Epoch: 19\t Loss: 0.0298\t Accuracy: 99.26% (141.55s)\n",
      "[TRAIN]\t Epoch: 20\t Loss: 0.0277\t Accuracy: 99.32% (141.69s)\n",
      "[EVAL]\t Loss: 0.1185\t Accuracy: 97.67% (28.34s)\n",
      "True \\ Pred\tBG\tPrice\tImage\tTitle\n",
      "BG\t\t109115\t571\t222\t395\n",
      "Price\t\t666\t462\t1\t0\n",
      "Image\t\t603\t10\t514\t2\n",
      "Title\t\t182\t0\t0\t947\n",
      "\n",
      "        BG: Acc: 98.92%\n",
      "     Price: Acc: 40.92%\n",
      "     Image: Acc: 45.53%\n",
      "     Title: Acc: 83.88%\n",
      "\n",
      "Model Trained!\n"
     ]
    }
   ],
   "source": [
    "model = WebObjExtractionNet(ROI_POOL_OUTPUT_SIZE, IMG_HEIGHT, N_CLASSES, 'resnet18', TRAINABLE_CONVNET, CLASS_NAMES).to(device)\n",
    "\n",
    "optimizer = optim.Adam(model.parameters(), lr=LEARNING_RATE)\n",
    "criterion = nn.CrossEntropyLoss(reduction='sum').to(device)\n",
    "\n",
    "model = train_model(model, train_loader, optimizer, criterion, N_EPOCHS, device, test_loader, EVAL_INTERVAL, LOG_FILE)"
   ]
  },
  {
   "cell_type": "code",
   "execution_count": null,
   "metadata": {},
   "outputs": [],
   "source": []
  }
 ],
 "metadata": {
  "kernelspec": {
   "display_name": "Python 3",
   "language": "python",
   "name": "python3"
  },
  "language_info": {
   "codemirror_mode": {
    "name": "ipython",
    "version": 3
   },
   "file_extension": ".py",
   "mimetype": "text/x-python",
   "name": "python",
   "nbconvert_exporter": "python",
   "pygments_lexer": "ipython3",
   "version": "3.5.2"
  }
 },
 "nbformat": 4,
 "nbformat_minor": 2
}
