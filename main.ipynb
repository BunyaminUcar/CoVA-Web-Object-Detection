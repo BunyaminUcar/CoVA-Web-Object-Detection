{
 "cells": [
  {
   "cell_type": "code",
   "execution_count": 1,
   "metadata": {},
   "outputs": [],
   "source": [
    "import torch\n",
    "import torch.nn as nn\n",
    "import torch.optim as optim\n",
    "from torch.utils.data import DataLoader\n",
    "\n",
    "from datasets import WebDataset\n",
    "from models import WebIENet\n",
    "from train import train_model\n",
    "from utils import pkl_load\n",
    "\n",
    "device = torch.device('cuda' if torch.cuda.is_available() else 'cpu')"
   ]
  },
  {
   "cell_type": "code",
   "execution_count": 2,
   "metadata": {},
   "outputs": [],
   "source": [
    "# dataset should be in COCO format\n",
    "train_dataset = WebDataset('data/web_data/train')\n",
    "train_loader = DataLoader(train_dataset, batch_size=1, shuffle=True, num_workers=1, drop_last=False)"
   ]
  },
  {
   "cell_type": "code",
   "execution_count": 3,
   "metadata": {
    "scrolled": false
   },
   "outputs": [
    {
     "name": "stdout",
     "output_type": "stream",
     "text": [
      "Initializing WebIENet model...\n",
      "Using first few layers of Resnet18 as Image Feature Extractor\n",
      "Input batch of images: torch.Size([1, 3, 1440, 1440])\n",
      "ConvNet feature: torch.Size([1, 64, 360, 360])\n",
      "RoI Pooling Spatial Scale: 0.25\n",
      "Classifier 1st FC layer input features: 1600\n",
      "--------------------------------------------------\n",
      "Training Model for 20 epochs...\n",
      "Epoch:  1\t Loss: 0.2693\t Accuracy: 85.9187\n",
      "Epoch:  2\t Loss: 0.1165\t Accuracy: 87.3740\n",
      "Epoch:  3\t Loss: 0.0970\t Accuracy: 87.6667\n",
      "Epoch:  4\t Loss: 0.0768\t Accuracy: 87.9593\n",
      "Epoch:  5\t Loss: 0.0721\t Accuracy: 88.1219\n",
      "Epoch:  6\t Loss: 0.0630\t Accuracy: 88.2764\n",
      "Epoch:  7\t Loss: 0.0587\t Accuracy: 88.4228\n",
      "Epoch:  8\t Loss: 0.0549\t Accuracy: 88.4797\n",
      "Epoch:  9\t Loss: 0.0507\t Accuracy: 88.5285\n",
      "Epoch: 10\t Loss: 0.0489\t Accuracy: 88.5285\n",
      "Epoch: 11\t Loss: 0.0444\t Accuracy: 88.6992\n",
      "Epoch: 12\t Loss: 0.0520\t Accuracy: 88.4878\n",
      "Epoch: 13\t Loss: 0.0438\t Accuracy: 88.6829\n",
      "Epoch: 14\t Loss: 0.0479\t Accuracy: 88.4797\n",
      "Epoch: 15\t Loss: 0.0436\t Accuracy: 88.6098\n",
      "Epoch: 16\t Loss: 0.0413\t Accuracy: 88.6992\n",
      "Epoch: 17\t Loss: 0.0393\t Accuracy: 88.7967\n",
      "Epoch: 18\t Loss: 0.0436\t Accuracy: 88.5366\n",
      "Epoch: 19\t Loss: 0.0432\t Accuracy: 88.6341\n",
      "Epoch: 20\t Loss: 0.0341\t Accuracy: 88.8618\n",
      "Model Trained!\n"
     ]
    }
   ],
   "source": [
    "# Parameters\n",
    "N_CLASSES = 4 # 0: BG, 1: Price, 2: Image, 3: Title\n",
    "IMG_HEIGHT = 1440 # Image assumed to have same height and width\n",
    "\n",
    "# Hyperparameters\n",
    "ROI_POOL_OUTPUT_SIZE = (5,5)\n",
    "LEARNABLE_CONVNET = False\n",
    "LEARNING_RATE = 1e-3\n",
    "N_EPOCHS = 20\n",
    "\n",
    "model = WebIENet(ROI_POOL_OUTPUT_SIZE, IMG_HEIGHT, N_CLASSES, LEARNABLE_CONVNET).to(device)\n",
    "\n",
    "optimizer = optim.Adam(model.parameters(), lr=LEARNING_RATE)\n",
    "criterion = nn.CrossEntropyLoss().to(device)\n",
    "\n",
    "model = train_model(model, train_loader, optimizer, criterion, N_EPOCHS, device)"
   ]
  },
  {
   "cell_type": "code",
   "execution_count": null,
   "metadata": {},
   "outputs": [],
   "source": []
  }
 ],
 "metadata": {
  "kernelspec": {
   "display_name": "Python 3",
   "language": "python",
   "name": "python3"
  },
  "language_info": {
   "codemirror_mode": {
    "name": "ipython",
    "version": 3
   },
   "file_extension": ".py",
   "mimetype": "text/x-python",
   "name": "python",
   "nbconvert_exporter": "python",
   "pygments_lexer": "ipython3",
   "version": "3.5.2"
  }
 },
 "nbformat": 4,
 "nbformat_minor": 2
}
